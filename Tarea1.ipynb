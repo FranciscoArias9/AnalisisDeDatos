{
  "nbformat": 4,
  "nbformat_minor": 0,
  "metadata": {
    "colab": {
      "provenance": []
    },
    "kernelspec": {
      "name": "python3",
      "display_name": "Python 3"
    },
    "language_info": {
      "name": "python"
    }
  },
  "cells": [
    {
      "cell_type": "code",
      "execution_count": null,
      "metadata": {
        "id": "9Ah016B1fKQO"
      },
      "outputs": [],
      "source": [
        "#ejercicio 1: if else\n",
        "\n",
        "print(\"Ejercicio Bisiesto\")\n",
        "anio = int(input(\"Ingrese el año: \"))\n",
        "\n",
        "if(anio % 400 == 0) or (anio % 4 == 0) and (anio % 100 != 0):\n",
        "    print(\"El año es Bisiesto\")\n",
        "\n",
        "else:\n",
        "    print(\"El año no es Bisiesto\")\n",
        "\n",
        "# ejercicio 2: switcher\n",
        "\n",
        "switcher = {1:\"Enero\",2:\"Febrero\",3:\"Marzo\",4:\"Abril\",5:\"Mayo\",6:\"Junio\",7:\"Julio\",8:\"Agosto\",9:\"Setiembre\",10:\"Octubre\",11:\"Noviembre\",12:\"Diciembre\"}\n",
        "argument = int(input(\"Ingrese un numero: \"))\n",
        "nombreDeMes = switcher.get(argument,\"Mes invalido\")\n",
        "\n",
        "print(nombreDeMes)\n",
        "\n",
        "#ejercicio 3: ciclos\n",
        "\n",
        "C = -1\n",
        "I = 0\n",
        "M = 0\n",
        "\n",
        "while(C<0) or (I <= 0) or (I >= 100) or (M <= 0):\n",
        "    print(\"Introduce el capital, interes y el tiempo apropiados\")\n",
        "    C = int(input(\"Capital: \"))\n",
        "    I = int(input(\"Interes: \"))\n",
        "    M = int(input(\"Tiempo en Annios: \"))\n",
        "\n",
        "for i in range(M):\n",
        "    C = C*(1 + I/100)\n",
        "    print(\"Monto \",C,\" colones\")\n",
        "\n",
        "#ejercicio 4: divisores\n",
        "\n",
        "print(\"Digite un numero: \")\n",
        "numero = int(input(\"Numero: \"))\n",
        "\n",
        "Suma = 0\n",
        "for i in range(1,numero+1):\n",
        "    if(numero % i ==0):\n",
        "        Suma = Suma + i\n",
        "print (Suma)\n",
        "\n",
        "while numero>0:\n",
        "    Suma = 0\n",
        "    for i in range(1,numero+1):\n",
        "        if(numero % i ==0):\n",
        "            Suma = Suma + i\n",
        "    print (Suma)\n",
        "    numero = int(input(\"Numero: \"))\n",
        "\n"
      ]
    }
  ]
}