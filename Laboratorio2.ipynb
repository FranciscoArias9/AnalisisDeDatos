{
  "nbformat": 4,
  "nbformat_minor": 0,
  "metadata": {
    "colab": {
      "provenance": []
    },
    "kernelspec": {
      "name": "python3",
      "display_name": "Python 3"
    },
    "language_info": {
      "name": "python"
    }
  },
  "cells": [
    {
      "cell_type": "markdown",
      "source": [],
      "metadata": {
        "id": "SvyHqEla63iE"
      }
    },
    {
      "cell_type": "code",
      "execution_count": null,
      "metadata": {
        "colab": {
          "base_uri": "https://localhost:8080/"
        },
        "id": "hJFDpV88sbBN",
        "outputId": "b82978fd-e30f-48c1-c55b-7cfdeee59649"
      },
      "outputs": [
        {
          "output_type": "stream",
          "name": "stdout",
          "text": [
            "Empty DataFrame\n",
            "Columns: [TOWN, LON, LAT, MEDV, CRIM, ZN, INDUS, CHAS, NOX, RM, AGE, DIS, RAD, TAX, PTRATIO, B, LSTAT]\n",
            "Index: []\n"
          ]
        }
      ],
      "source": [
        "#Apertura de archivo\n",
        "import pandas as pd\n",
        "df=pd.read_csv('/content/casasboston.csv')\n",
        "data=pd.DataFrame(df)\n",
        "\n",
        "dataFiltered2018=data.loc[(data['TOWN']==\"Swampscott\") & (data['CRIM']>=0.50)]\n",
        "\n",
        "\n",
        "print(dataFiltered2018)\n"
      ]
    },
    {
      "cell_type": "code",
      "source": [
        "dataFiltered2018=data['AGE'].median()\n",
        "print(dataFiltered2018)"
      ],
      "metadata": {
        "colab": {
          "base_uri": "https://localhost:8080/"
        },
        "id": "6k-Yus4Z7-pZ",
        "outputId": "b2bb8e56-05e8-4329-8480-453e18505886"
      },
      "execution_count": null,
      "outputs": [
        {
          "output_type": "stream",
          "name": "stdout",
          "text": [
            "77.5\n"
          ]
        }
      ]
    },
    {
      "cell_type": "code",
      "source": [
        "dataFiltered201=data.sort_values(by=['AGE'])\n",
        "print(dataFiltered201)"
      ],
      "metadata": {
        "colab": {
          "base_uri": "https://localhost:8080/"
        },
        "id": "qzoA0iXP-Wzo",
        "outputId": "6be5e8cf-ac70-4af3-ccd6-cede7f7b4c0c"
      },
      "execution_count": null,
      "outputs": [
        {
          "output_type": "stream",
          "name": "stdout",
          "text": [
            "                   TOWN      LON      LAT  MEDV      CRIM   ZN  INDUS  CHAS  \\\n",
            "41              Peabody -71.0040  42.3350  26.6   0.12744  0.0   6.91     0   \n",
            "74               Woburn -71.1105  42.2890  24.1   0.07896  0.0  12.83     0   \n",
            "73           Burlington -71.1230  42.2920  23.4   0.19539  0.0  10.81     0   \n",
            "43              Peabody -70.9775  42.3237  24.7   0.15936  0.0   6.91     0   \n",
            "42              Peabody -71.0030  42.3235  25.3   0.14150  0.0   6.91     0   \n",
            "..                  ...      ...      ...   ...       ...  ...    ...   ...   \n",
            "388  Boston East Boston -71.0195  42.2255  10.2  14.33370  0.0  18.10     0   \n",
            "145           Cambridge -71.0540  42.2190  13.8   2.37934  0.0  19.58     0   \n",
            "141          Somerville -71.0543  42.2265  14.4   1.62864  0.0  21.89     0   \n",
            "159           Cambridge -71.0650  42.2223  23.3   1.42502  0.0  19.58     0   \n",
            "209             Waltham -71.1430  42.2217  20.0   0.43571  0.0  10.59     1   \n",
            "\n",
            "       NOX     RM    AGE     DIS  RAD  TAX  PTRATIO       B  LSTAT  \n",
            "41   0.448  6.770    2.9  5.7209    3  233     17.9  385.41   4.84  \n",
            "74   0.437  6.273    6.0  4.2515    5  398     18.7  394.92   6.78  \n",
            "73   0.413  6.245    6.2  5.2873    4  305     19.2  377.17   7.54  \n",
            "43   0.448  6.211    6.5  5.7209    3  233     17.9  394.46   7.44  \n",
            "42   0.448  6.169    6.6  5.7209    3  233     17.9  383.37   5.81  \n",
            "..     ...    ...    ...     ...  ...  ...      ...     ...    ...  \n",
            "388  0.700  4.880  100.0  1.5895   24  666     20.2  372.92  30.62  \n",
            "145  0.871  6.130  100.0  1.4191    5  403     14.7  172.91  27.80  \n",
            "141  0.624  5.019  100.0  1.4394    4  437     21.2  396.90  34.41  \n",
            "159  0.871  6.510  100.0  1.7659    5  403     14.7  364.31   7.39  \n",
            "209  0.489  5.344  100.0  3.8750    4  277     18.6  396.90  23.09  \n",
            "\n",
            "[506 rows x 17 columns]\n"
          ]
        }
      ]
    },
    {
      "cell_type": "code",
      "source": [
        "dataFiltered2018=data.sort_values(by=['CRIM'])\n",
        "print(dataFiltered2018)"
      ],
      "metadata": {
        "id": "yUuyw-aSBWpS",
        "outputId": "2d4938cc-1dba-4cdd-d745-61b88000f77f",
        "colab": {
          "base_uri": "https://localhost:8080/"
        }
      },
      "execution_count": null,
      "outputs": [
        {
          "output_type": "stream",
          "name": "stdout",
          "text": [
            "                    TOWN      LON      LAT  MEDV      CRIM    ZN  INDUS  CHAS  \\\n",
            "0                 Nahant -70.9550  42.2550  24.0   0.00632  18.0   2.31     0   \n",
            "284             Medfield -71.1800  42.1105  32.2   0.00906  90.0   2.97     0   \n",
            "285               Millis -71.2135  42.1000  22.0   0.01096  55.0   2.25     0   \n",
            "341             Cohasset -70.8875  42.1465  32.7   0.01301  35.0   1.52     0   \n",
            "55             Topsfield -70.9625  42.3810  35.4   0.01311  90.0   1.22     0   \n",
            "..                   ...      ...      ...   ...       ...   ...    ...   ...   \n",
            "414       Boston Roxbury -71.0420  42.1985   7.0  45.74610   0.0  18.10     0   \n",
            "410      Boston Downtown -71.0462  42.2075  15.0  51.13580   0.0  18.10     0   \n",
            "405  Boston South Boston -71.0320  42.2057   5.0  67.92080   0.0  18.10     0   \n",
            "418       Boston Roxbury -71.0525  42.1989   8.8  73.53410   0.0  18.10     0   \n",
            "380   Boston Charlestown -71.0460  42.2300  10.4  88.97620   0.0  18.10     0   \n",
            "\n",
            "       NOX     RM    AGE     DIS  RAD  TAX  PTRATIO       B  LSTAT  \n",
            "0    0.538  6.575   65.2  4.0900    1  296     15.3  396.90   4.98  \n",
            "284  0.400  7.088   20.8  7.3073    1  285     15.3  394.72   7.85  \n",
            "285  0.389  6.453   31.9  7.3073    1  300     15.3  394.72   8.23  \n",
            "341  0.442  7.241   49.3  7.0379    1  284     15.5  394.74   5.49  \n",
            "55   0.403  7.249   21.9  8.6966    5  226     17.9  395.93   4.81  \n",
            "..     ...    ...    ...     ...  ...  ...      ...     ...    ...  \n",
            "414  0.693  4.519  100.0  1.6582   24  666     20.2   88.27  36.98  \n",
            "410  0.597  5.757  100.0  1.4130   24  666     20.2    2.60  10.11  \n",
            "405  0.693  5.683  100.0  1.4254   24  666     20.2  384.97  22.98  \n",
            "418  0.679  5.957  100.0  1.8026   24  666     20.2   16.45  20.62  \n",
            "380  0.671  6.968   91.9  1.4165   24  666     20.2  396.90  17.21  \n",
            "\n",
            "[506 rows x 17 columns]\n"
          ]
        }
      ]
    }
  ]
}